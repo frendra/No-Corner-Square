{
 "cells": [
  {
   "cell_type": "code",
   "execution_count": 2,
   "metadata": {},
   "outputs": [
    {
     "name": "stdin",
     "output_type": "stream",
     "text": [
      "Input n  :  7\n"
     ]
    },
    {
     "name": "stdout",
     "output_type": "stream",
     "text": [
      "\n",
      "   X  X  X  X  X  X  X     \n",
      "X                       X  \n",
      "X                       X  \n",
      "X                       X  \n",
      "X                       X  \n",
      "X                       X  \n",
      "X                       X  \n",
      "X                       X  \n",
      "   X  X  X  X  X  X  X     \n"
     ]
    }
   ],
   "source": [
    "n = int(input(\"Input n  : \" ))\n",
    "print()\n",
    "\n",
    "if n > 0:\n",
    "    for i in range(n+2):\n",
    "        for j in range(n+2):\n",
    "            if( (0<i<n+1 and j == 0) or\n",
    "                (0<i<n+1 and j == n+1) or\n",
    "                (i == 0 and 0<j<n+1) or\n",
    "                (i == n+1 and 0<j<n+1)\n",
    "              ):\n",
    "                print('X', end = '  ')\n",
    "            else:\n",
    "                print(' ', end = '  ')\n",
    "        print()\n",
    "else: print(\"Please insert a valid number\")"
   ]
  },
  {
   "cell_type": "code",
   "execution_count": null,
   "metadata": {},
   "outputs": [],
   "source": []
  }
 ],
 "metadata": {
  "kernelspec": {
   "display_name": "Python 3",
   "language": "python",
   "name": "python3"
  },
  "language_info": {
   "codemirror_mode": {
    "name": "ipython",
    "version": 3
   },
   "file_extension": ".py",
   "mimetype": "text/x-python",
   "name": "python",
   "nbconvert_exporter": "python",
   "pygments_lexer": "ipython3",
   "version": "3.7.6"
  }
 },
 "nbformat": 4,
 "nbformat_minor": 4
}
